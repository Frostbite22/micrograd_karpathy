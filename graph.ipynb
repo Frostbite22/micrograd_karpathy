{
 "cells": [
  {
   "cell_type": "code",
   "execution_count": 8,
   "metadata": {},
   "outputs": [],
   "source": [
    "import graphviz\n",
    "\n",
    "dot = graphviz.Digraph(comment='The Round Table')"
   ]
  },
  {
   "cell_type": "code",
   "execution_count": 9,
   "metadata": {},
   "outputs": [],
   "source": [
    "dot.node('A','God')\n",
    "dot.node('B','Humans')\n",
    "dot.node('C','Animals')\n"
   ]
  },
  {
   "cell_type": "code",
   "execution_count": 10,
   "metadata": {},
   "outputs": [
    {
     "name": "stdout",
     "output_type": "stream",
     "text": [
      "// The Round Table\n",
      "digraph {\n",
      "\tA [label=God]\n",
      "\tB [label=Humans]\n",
      "\tC [label=Animals]\n",
      "\tA -> B\n",
      "\tA -> C\n",
      "}\n",
      "\n"
     ]
    }
   ],
   "source": [
    "dot.edges(['AB','AC'])\n",
    "print(dot.source)"
   ]
  },
  {
   "cell_type": "code",
   "execution_count": 11,
   "metadata": {},
   "outputs": [
    {
     "data": {
      "text/plain": [
       "'doctest-output/Digraph.gv.pdf'"
      ]
     },
     "execution_count": 11,
     "metadata": {},
     "output_type": "execute_result"
    }
   ],
   "source": [
    "dot.render(directory='doctest-output').replace('\\\\', '/')"
   ]
  },
  {
   "cell_type": "code",
   "execution_count": 12,
   "metadata": {},
   "outputs": [
    {
     "data": {
      "text/plain": [
       "'doctest-output\\\\Digraph.gv.pdf'"
      ]
     },
     "execution_count": 12,
     "metadata": {},
     "output_type": "execute_result"
    }
   ],
   "source": [
    "dot.render(directory='doctest-output', view=True)  "
   ]
  },
  {
   "cell_type": "code",
   "execution_count": 7,
   "metadata": {},
   "outputs": [],
   "source": [
    "class Value:\n",
    "    def __init__(self,data,_children=(),_op=''):\n",
    "        self.data = data\n",
    "        self._prev = set(_children)\n",
    "        self._op = _op\n",
    "    def __repr__(self) -> str:\n",
    "        return f\"Value(data={self.data})\"\n",
    "    def __add__(self,other): \n",
    "        return Value(self.data+other.data,(self,other),\"+\")\n",
    "    def __sub__(self,other):\n",
    "        return Value(self.data-other.data,(self,other),\"-\")\n",
    "    def __mul__(self,other):\n",
    "        return Value(self.data*other.data,(self,other),\"*\")\n",
    "\n",
    "    "
   ]
  },
  {
   "cell_type": "code",
   "execution_count": 8,
   "metadata": {},
   "outputs": [
    {
     "data": {
      "text/plain": [
       "'+'"
      ]
     },
     "execution_count": 8,
     "metadata": {},
     "output_type": "execute_result"
    }
   ],
   "source": [
    "a = Value(2.0)\n",
    "b = Value(3.0)\n",
    "c = a + b\n",
    "c._prev\n",
    "c._op"
   ]
  },
  {
   "cell_type": "code",
   "execution_count": null,
   "metadata": {},
   "outputs": [],
   "source": []
  }
 ],
 "metadata": {
  "kernelspec": {
   "display_name": "venv",
   "language": "python",
   "name": "python3"
  },
  "language_info": {
   "codemirror_mode": {
    "name": "ipython",
    "version": 3
   },
   "file_extension": ".py",
   "mimetype": "text/x-python",
   "name": "python",
   "nbconvert_exporter": "python",
   "pygments_lexer": "ipython3",
   "version": "3.11.3"
  }
 },
 "nbformat": 4,
 "nbformat_minor": 2
}
