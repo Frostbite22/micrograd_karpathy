{
 "cells": [
  {
   "cell_type": "code",
   "execution_count": 379,
   "metadata": {},
   "outputs": [],
   "source": [
    "import math\n",
    "\n",
    "class Value:\n",
    "    def __init__(self,data,_children=(),_op='',label =''):\n",
    "        self.data = data\n",
    "        self.grad = 0.0\n",
    "        self._backward = lambda:None\n",
    "        self._prev = set(_children)\n",
    "        self._op = _op\n",
    "        self.label = label\n",
    "    \n",
    "    def __add__(self,other): \n",
    "        other = other if isinstance(other,Value) else Value(other)\n",
    "        out = Value(self.data+other.data,(self,other),\"+\")\n",
    "        def _backward():\n",
    "            self.grad += out.grad\n",
    "            other.grad += out.grad\n",
    "        out._backward = _backward\n",
    "        return out\n",
    "    \n",
    "        \n",
    "    def __mul__(self,other):\n",
    "        other = other if isinstance(other,Value) else Value(other)\n",
    "        out = Value(self.data*other.data,(self,other),\"*\")\n",
    "        def _backward():\n",
    "            self.grad += other.data*out.grad\n",
    "            other.grad += self.data*out.grad\n",
    "        out._backward = _backward\n",
    "        return out\n",
    "        \n",
    "    def __pow__(self,other):\n",
    "        assert isinstance(other,(int,float)), \"only support int or float\" \n",
    "        out = Value(self.data**other,(self,),f\"**{other}\")\n",
    "        def _backward():\n",
    "            self.grad += other*self.data**(other-1)*out.grad\n",
    "        self._backward = _backward\n",
    "        return out \n",
    "    \n",
    "    def backward(self):\n",
    "        topo = []\n",
    "        visited = set()\n",
    "        def build_topo(v):\n",
    "            if v not in visited:\n",
    "                visited.add(v)\n",
    "                for child in v._prev:\n",
    "                    build_topo(child)\n",
    "                topo.append(v)\n",
    "        build_topo(self)\n",
    "        self.grad = 1.0\n",
    "        for v in reversed(topo):\n",
    "            v._backward()\n",
    "    \n",
    "    def tanh(self):\n",
    "        x = self.data\n",
    "        t = (math.exp(2*x) - 1)  / (math.exp(2*x) + 1)\n",
    "        out = Value(t,(self,),label=\"tanh\")\n",
    "        def _backward():\n",
    "            self.grad += (1 - t**2)*out.grad\n",
    "        out._backward = _backward\n",
    "        return out\n",
    "    \n",
    "    def exp(self):\n",
    "        x = self.data\n",
    "        out = Value(math.exp(x),(self,),label=\"exp\")\n",
    "        def _backward():\n",
    "            self.grad += out.grad * out.data\n",
    "        out._backward = _backward\n",
    "        return out\n",
    "    \n",
    "    def __neg__(self): # -self\n",
    "        return self * -1\n",
    "\n",
    "    def __radd__(self, other): # other + self\n",
    "        return self + other\n",
    "\n",
    "    def __sub__(self, other): # self - other\n",
    "        return self + (-other)\n",
    "\n",
    "    def __rsub__(self, other): # other - self\n",
    "        return other + (-self)\n",
    "\n",
    "    def __rmul__(self, other): # other * self\n",
    "        return self * other\n",
    "\n",
    "    def __truediv__(self, other): # self / other\n",
    "        return self * other**-1\n",
    "\n",
    "    def __rtruediv__(self, other): # other / self\n",
    "        return other * self**-1\n",
    "\n",
    "    def __repr__(self):\n",
    "        return f\"Value(data={self.data}, grad={self.grad})\"\n",
    "    \n",
    "    \n",
    "    "
   ]
  },
  {
   "cell_type": "code",
   "execution_count": 380,
   "metadata": {},
   "outputs": [],
   "source": [
    "import graphviz"
   ]
  },
  {
   "cell_type": "code",
   "execution_count": 381,
   "metadata": {},
   "outputs": [],
   "source": [
    "def trace(root):\n",
    "    nodes, edges = set(), set()\n",
    "    def build(v):\n",
    "        if v not in nodes:\n",
    "            nodes.add(v)\n",
    "            for child in v._prev:\n",
    "                edges.add((child,v))\n",
    "                build(child)\n",
    "    build(root)\n",
    "    return nodes, edges"
   ]
  },
  {
   "cell_type": "code",
   "execution_count": 382,
   "metadata": {},
   "outputs": [],
   "source": [
    "def draw_dot(root):\n",
    "    g = graphviz.Digraph('gradient',format=\"svg\",graph_attr={'rankdir':'LR'})\n",
    "    nodes, edges = trace(root)\n",
    "    for n in nodes:\n",
    "        uid =str(id(n))\n",
    "        g.node(name=uid,label=\"%s | data %.4f | grad %.4f\" % (n.label,n.data,n.grad),shape='record')\n",
    "        if n._op:\n",
    "            g.node(name=uid+n._op,label=n._op)\n",
    "            g.edge(uid+n._op,uid)\n",
    "    \n",
    "    for n1 , n2 in edges:\n",
    "        g.edge(str(id(n1)),str(id(n2)) + n2._op)\n",
    "    \n",
    "    return g"
   ]
  },
  {
   "cell_type": "code",
   "execution_count": 383,
   "metadata": {},
   "outputs": [],
   "source": [
    "x1 = Value(2.0,label='x1')\n",
    "x2 = Value(0.0,label='x2')\n",
    "w1 = Value(-3.0,label='w1')\n",
    "w2 = Value(1.0,label='w2')\n",
    "b = Value(6.88137358,label='b')\n",
    "x1w1 = x1*w1 ; x1w1.label = 'x1w1' \n",
    "x2w2 = x2*w2 ; x2w2.label = 'x2w2'\n",
    "x1w1x2w2 = x1w1+x2w2 ; x1w1x2w2.label = 'x1w1x2w2'\n",
    "n = x1w1x2w2 + b ; n.label = 'n'\n",
    "o = n.tanh() ; o.label = 'o'\n",
    "o.backward()\n"
   ]
  },
  {
   "cell_type": "code",
   "execution_count": 384,
   "metadata": {},
   "outputs": [
    {
     "name": "stdout",
     "output_type": "stream",
     "text": [
      "0.707106777676776\n",
      "1.000000009927133\n",
      "0.0\n",
      "-1.5000000148906993\n",
      "0.5000000049635664\n"
     ]
    }
   ],
   "source": [
    "print(o.data)\n",
    "print(w1.grad)\n",
    "print(w2.grad)\n",
    "print(x1.grad)  \n",
    "print(x2.grad)"
   ]
  },
  {
   "cell_type": "code",
   "execution_count": 385,
   "metadata": {},
   "outputs": [],
   "source": [
    "## doing the same thing but using pytorch\n",
    "\n",
    "import torch\n",
    "\n",
    "x1 = torch.tensor([2.0],requires_grad=True)\n",
    "x2 = torch.tensor([0.0],requires_grad=True)\n",
    "w1 = torch.tensor([-3.0],requires_grad=True)\n",
    "w2 = torch.tensor([1.0],requires_grad=True)\n",
    "\n",
    "b = torch.tensor([6.88137358],requires_grad=True)\n",
    "\n",
    "n = x1*w1 + x2*w2 + b \n",
    "o = torch.tanh(n)\n",
    "o.backward()"
   ]
  },
  {
   "cell_type": "code",
   "execution_count": 386,
   "metadata": {},
   "outputs": [
    {
     "name": "stdout",
     "output_type": "stream",
     "text": [
      "0.7071067094802856\n",
      "1.000000238418579\n",
      "0.0\n",
      "-1.5000003576278687\n",
      "0.5000001192092896\n"
     ]
    }
   ],
   "source": [
    "print(o.data.item())\n",
    "print(w1.grad.item())\n",
    "print(w2.grad.item())\n",
    "print(x1.grad.item())  \n",
    "print(x2.grad.item())\n",
    "\n"
   ]
  },
  {
   "cell_type": "code",
   "execution_count": 426,
   "metadata": {},
   "outputs": [
    {
     "data": {
      "text/plain": [
       "Value(data=0.811869989130927, grad=0.0)"
      ]
     },
     "execution_count": 426,
     "metadata": {},
     "output_type": "execute_result"
    }
   ],
   "source": [
    "import random\n",
    "class Neuron:\n",
    "    def __init__(self,ninputs):\n",
    "        self.w = [Value(random.uniform(-1,1)) for _ in range(ninputs)]\n",
    "        self.b = Value(random.uniform(-1,1))\n",
    "    \n",
    "    def __call__(self,x):\n",
    "        act = sum((xi*wi for xi,wi in zip(x,self.w)), self.b)\n",
    "        out = act.tanh()\n",
    "        return out\n",
    "    \n",
    "    def parameters(self):\n",
    "        return self.w + [self.b]\n",
    "    \n",
    "class Layer:\n",
    "    def __init__(self,ninputs,nneurons):\n",
    "        self.neurons = [Neuron(ninputs) for _ in range(nneurons)]\n",
    "    \n",
    "    def __call__(self,x):\n",
    "        outs =  [n(x) for n in self.neurons]\n",
    "        return outs[0] if len(outs) == 1 else outs\n",
    "    \n",
    "    def parameters(self):\n",
    "        return [p for n in self.neurons for p in n.parameters()]\n",
    "\n",
    "class MLP:\n",
    "    def __init__(self,ninputs,noutputs):\n",
    "        sz = [ninputs] + noutputs\n",
    "        self.layers = [Layer(sz[i],sz[i+1]) for i in range(len(noutputs))]\n",
    "\n",
    "    def __call__(self,x):\n",
    "        for layer in self.layers:\n",
    "            x = layer(x)\n",
    "        return x\n",
    "    \n",
    "    def parameters(self):\n",
    "        return [p for layer in self.layers for p in layer.parameters()]\n",
    "\n",
    "x = [Value(random.uniform(-1,1)) for _ in range(3)]\n",
    "n = MLP(3,[4,4,1])\n",
    "n(x)"
   ]
  },
  {
   "cell_type": "code",
   "execution_count": 427,
   "metadata": {},
   "outputs": [],
   "source": [
    "#draw_dot(n(x))"
   ]
  },
  {
   "cell_type": "code",
   "execution_count": 428,
   "metadata": {},
   "outputs": [],
   "source": [
    "xs = [\n",
    "    [1.0,1.0,-1.0],\n",
    "    [1.0,1.0,0.5],\n",
    "    [0.0,1.0,-1.0],\n",
    "    [-1.0,0.0,0.5]\n",
    "]\n",
    "\n",
    "ys = [1.0,1.0,0.0,-1.0] # desired targets "
   ]
  },
  {
   "cell_type": "code",
   "execution_count": 434,
   "metadata": {},
   "outputs": [
    {
     "data": {
      "text/plain": [
       "[Value(data=0.8426014519190288, grad=0.0),\n",
       " Value(data=0.8849531967696909, grad=0.0),\n",
       " Value(data=0.8288850182613603, grad=0.0),\n",
       " Value(data=0.8036168824388453, grad=0.0)]"
      ]
     },
     "execution_count": 434,
     "metadata": {},
     "output_type": "execute_result"
    }
   ],
   "source": [
    "y_pred = [n(x) for x in xs]\n",
    "y_pred"
   ]
  },
  {
   "cell_type": "code",
   "execution_count": 435,
   "metadata": {},
   "outputs": [
    {
     "data": {
      "text/plain": [
       "Value(data=3.978094301988067, grad=0.0)"
      ]
     },
     "execution_count": 435,
     "metadata": {},
     "output_type": "execute_result"
    }
   ],
   "source": [
    "y_pred = [n(x) for x in xs]\n",
    "loss = sum( (yout-ygt)**2 for ygt,yout in zip(ys,y_pred))\n",
    "loss"
   ]
  },
  {
   "cell_type": "code",
   "execution_count": 436,
   "metadata": {},
   "outputs": [],
   "source": [
    "loss.backward()"
   ]
  },
  {
   "cell_type": "code",
   "execution_count": 437,
   "metadata": {},
   "outputs": [
    {
     "data": {
      "text/plain": [
       "0.13952319783590106"
      ]
     },
     "execution_count": 437,
     "metadata": {},
     "output_type": "execute_result"
    }
   ],
   "source": [
    "n.layers[0].neurons[0].w[0].data"
   ]
  },
  {
   "cell_type": "code",
   "execution_count": 438,
   "metadata": {},
   "outputs": [
    {
     "data": {
      "text/plain": [
       "0.0"
      ]
     },
     "execution_count": 438,
     "metadata": {},
     "output_type": "execute_result"
    }
   ],
   "source": [
    "n.layers[0].neurons[0].w[0].grad"
   ]
  },
  {
   "cell_type": "code",
   "execution_count": 439,
   "metadata": {},
   "outputs": [],
   "source": [
    "for p in n.parameters():\n",
    "    p.data -= 0.01 * p.grad"
   ]
  },
  {
   "cell_type": "code",
   "execution_count": 440,
   "metadata": {},
   "outputs": [
    {
     "data": {
      "text/plain": [
       "[Value(data=0.8426014519190288, grad=0.0),\n",
       " Value(data=0.8849531967696909, grad=0.0),\n",
       " Value(data=0.8288850182613603, grad=0.0),\n",
       " Value(data=0.8036168824388453, grad=0.0)]"
      ]
     },
     "execution_count": 440,
     "metadata": {},
     "output_type": "execute_result"
    }
   ],
   "source": [
    "y_pred"
   ]
  },
  {
   "cell_type": "code",
   "execution_count": 441,
   "metadata": {},
   "outputs": [
    {
     "data": {
      "text/plain": [
       "0.0"
      ]
     },
     "execution_count": 441,
     "metadata": {},
     "output_type": "execute_result"
    }
   ],
   "source": [
    "n.parameters()[40].grad"
   ]
  },
  {
   "cell_type": "code",
   "execution_count": null,
   "metadata": {},
   "outputs": [],
   "source": []
  }
 ],
 "metadata": {
  "kernelspec": {
   "display_name": "venv",
   "language": "python",
   "name": "python3"
  },
  "language_info": {
   "codemirror_mode": {
    "name": "ipython",
    "version": 3
   },
   "file_extension": ".py",
   "mimetype": "text/x-python",
   "name": "python",
   "nbconvert_exporter": "python",
   "pygments_lexer": "ipython3",
   "version": "3.11.3"
  }
 },
 "nbformat": 4,
 "nbformat_minor": 2
}
